{
 "cells": [
  {
   "cell_type": "code",
   "execution_count": 2,
   "metadata": {},
   "outputs": [],
   "source": [
    "import numpy as np"
   ]
  },
  {
   "cell_type": "markdown",
   "metadata": {},
   "source": [
    "Definieer een functie om de waarde van een hypothese te berekenen.\n",
    "\n",
    "$h_{w,b}(x) = w x + b$.\n",
    "\n",
    "Zorg ervoor dat je functie gevectoriseerd werkt."
   ]
  },
  {
   "cell_type": "code",
   "execution_count": 3,
   "metadata": {},
   "outputs": [],
   "source": [
    "def predict(w, b, X):\n",
    "    \"\"\" Bereken de voorspelling volgens een lineair regressie model.\n",
    "    \n",
    "        w    : de gewichten, vector van de vorm (1, n)\n",
    "        b    : de bias, een reëel getal\n",
    "        X    : matrix van de vorm: (n, m). Elk van de m kolommen \n",
    "               bevat 1 datapunt. \n",
    "        returns: vector van de vorm (1, m) met elk van de m kolommen de\n",
    "                voorspelde waarde\n",
    "    \"\"\"\n",
    "    ### BEGIN CODE HIER (1 regel)\n",
    "    ### EINDE CODE HIER    "
   ]
  },
  {
   "cell_type": "code",
   "execution_count": 4,
   "metadata": {},
   "outputs": [],
   "source": [
    "### NIET WIJZIGEN: Test cel (Voorbeeld 6.3)\n",
    "X = np.array([[1], [2], [3], [4], [5]]).T \n",
    "w = np.array([[1]])\n",
    "b = -0.4\n",
    "Yhat = predict(w, b, X)\n",
    "assert Yhat.shape == (1,5), \"Verkeerde dimensies\"\n",
    "assert np.linalg.norm(Yhat - np.array([[0.6,1.6,2.6,3.6,4.6]])) < 10**-9, \"Niet juist\""
   ]
  },
  {
   "cell_type": "code",
   "execution_count": 5,
   "metadata": {},
   "outputs": [],
   "source": [
    "### NIET WIJZIGEN: Test cel (Voorbeeld 6.5)\n",
    "X = np.array([[1,1], [2,4], [3,9],[4,16],[5,25]]).T\n",
    "w = np.array([[0.722, 0.821]])\n",
    "b = -0.4\n",
    "Yhat = predict(w, b, X)\n",
    "assert Yhat.shape == (1,5), \"Verkeerde dimensies\"\n",
    "assert np.linalg.norm(Yhat - np.array([[1.143, 4.328, 9.155, 15.624, 23.735]])) < 10**-9, \"Niet juist\""
   ]
  },
  {
   "cell_type": "markdown",
   "metadata": {},
   "source": [
    "Definieer een functie om de kost over een verzameling voorbeelden te berekenen:\n",
    "\n",
    "$J(w,b) = \\frac{1}{2m} \\sum_{i=1}^m \\bigl(h_{w,b}(x^{(i)}) - y^{(i)}\\bigr)^2$\n",
    "\n",
    "Zorg ervoor dat je functie gevectoriseerd werkt."
   ]
  },
  {
   "cell_type": "code",
   "execution_count": 6,
   "metadata": {},
   "outputs": [],
   "source": [
    "def cost(Yhat, Y):\n",
    "    \"\"\" Bereken de kost voor de gegeven voorspellingen.\n",
    "    \n",
    "        Yhat   : de voorspelling, vector van de vorm (1, m)\n",
    "        Y      : de werkelijke labels, vector van de vorm (1, m)\n",
    "        returns: de berekende kost\n",
    "    \"\"\"\n",
    "    (_, m) = Yhat.shape\n",
    "    ### BEGIN CODE HIER (1 regel)\n",
    "    ### EINDE CODE HIER"
   ]
  },
  {
   "cell_type": "code",
   "execution_count": 7,
   "metadata": {},
   "outputs": [],
   "source": [
    "### NIET WIJZIGEN: Test cel\n",
    "Yhat = np.array([[1,2,3]])\n",
    "assert cost(Yhat, Yhat) == 0, \"Kost verkeerd berekend, moet nul zijn\"\n",
    "Y = np.array([[0,1,2]])\n",
    "assert cost(Yhat, Y) == 0.5, \"Kost verkeerd berekend, moet 1/2 zijn\""
   ]
  },
  {
   "cell_type": "markdown",
   "metadata": {},
   "source": [
    "Definieer een functie die de gradiënt kan berekenen:\n",
    "\n",
    "$\\mathrm{d}w = \\frac{1}{m}(\\hat Y -  Y) X^T$\n",
    "\n",
    "en\n",
    "\n",
    "$\\mathrm{d}b = \\frac{1}{m}(\\hat Y - Y) \\mathbb{1}_{m\\times 1}$"
   ]
  },
  {
   "cell_type": "code",
   "execution_count": 8,
   "metadata": {},
   "outputs": [],
   "source": [
    "def gradient(w, b, X, Y):\n",
    "    \"\"\" Bereken de gradiënt van de kostfunctie.\n",
    "    \n",
    "        w    : de gewichten, vector van de vorm (1, n)\n",
    "        b    : de bias, een reëel getal\n",
    "        X    : matrix van de vorm: (n, m). Elk van de m kolommen \n",
    "               bevat 1 datapunt.  \n",
    "        Y    : de werkelijke labels, vector van de vorm (1, m)\n",
    "        \n",
    "        returns: de gradiënt\n",
    "    \"\"\"\n",
    "    (n, m) = X.shape\n",
    "    ### BEGIN CODE HIER (3 regels)\n",
    "    ### EINDE CODE HIER\n",
    "    return dw, db    "
   ]
  },
  {
   "cell_type": "code",
   "execution_count": 9,
   "metadata": {},
   "outputs": [],
   "source": [
    "## NIET WIJZIGEN: Test cel\n",
    "def gradient_check(w, b, X, Y, epsilon = 10**-6):\n",
    "    (n, m) = X.shape\n",
    "    dw = np.zeros_like(w)\n",
    "    db = 0   \n",
    "    for i in range(n):\n",
    "        backup = w[0,i]\n",
    "        w[0,i] += epsilon\n",
    "        Yhat_plus = predict(w, b, X)\n",
    "        cost_plus = cost(Yhat_plus, Y)\n",
    "        w[0,i] -= 2*epsilon\n",
    "        Yhat_min = predict(w, b, X)\n",
    "        cost_min = cost(Yhat_min, Y)\n",
    "        w[0,i] = backup\n",
    "        dw[0,i] = (cost_plus - cost_min)/(2*epsilon)\n",
    "    backup = b\n",
    "    b += epsilon\n",
    "    Yhat_plus = predict(w, b, X)\n",
    "    cost_plus = cost(Yhat_plus, Y)\n",
    "    b -= 2*epsilon\n",
    "    Yhat_min = predict(w, b, X)\n",
    "    cost_min = cost(Yhat_min, Y)\n",
    "    b = backup\n",
    "    db = (cost_plus - cost_min)/(2*epsilon)\n",
    "    \n",
    "    return dw, db\n",
    "\n",
    "(n, m) = (5, 10)\n",
    "w = np.random.randn(1, n)\n",
    "b = 0.5\n",
    "X = np.random.randn(n, m)\n",
    "Y = np.random.randn(1, m)\n",
    "dw, db = gradient(w, b, X, Y)\n",
    "dw_check, db_check = gradient_check(w, b, X, Y)\n",
    "assert np.linalg.norm(dw - dw_check) < 10**-6, \"dw verkeerd\"\n",
    "assert np.abs(db - db_check) < 10**-6, \"db verkeerd\""
   ]
  },
  {
   "cell_type": "markdown",
   "metadata": {},
   "source": [
    "Nu schrijven we de code om het model te gaan fitten."
   ]
  },
  {
   "cell_type": "code",
   "execution_count": 10,
   "metadata": {},
   "outputs": [],
   "source": [
    "def fit_model(X, Y, alpha = 0.05, num_iterations = 1000, w = None, b = None, store_cost = True):\n",
    "    \"\"\" Bepaal de beste parameters voor een lineair regressiemodel.\n",
    "    \n",
    "        X    : matrix van de vorm: (n, m). Elk van de m kolommen \n",
    "               bevat 1 datapunt.  \n",
    "        Y    : de werkelijke labels, vector van de vorm (1, m)\n",
    "        \n",
    "    \"\"\"\n",
    "    (n, m) = X.shape\n",
    "    ## We kijken of er beginwaarden gegeven worden voor w en b \n",
    "    if w is not None:\n",
    "        w = w\n",
    "    else:\n",
    "        w = np.zeros((1, n))\n",
    "    if b is not None:\n",
    "        b = b\n",
    "    else:\n",
    "        b = 0\n",
    "    ##  \n",
    "    if store_cost:\n",
    "        cost_vector = np.zeros(num_iterations)\n",
    "    for i in range(num_iterations):\n",
    "    ### BEGIN CODE HIER  (3 regels)\n",
    "    ### EINDE CODE HIER\n",
    "        if store_cost:\n",
    "            Yhat = predict(w, b, X)\n",
    "            cost_vector[i] = cost(Yhat, Y)\n",
    "    if store_cost:\n",
    "        return w, b, cost_vector\n",
    "    else:\n",
    "        return w, b"
   ]
  },
  {
   "cell_type": "code",
   "execution_count": 11,
   "metadata": {},
   "outputs": [
    {
     "name": "stdout",
     "output_type": "stream",
     "text": [
      "[0.06285714 0.06285714 0.06285714 0.06285714 0.06285714 0.06285714\n",
      " 0.06285714 0.06285714 0.06285714 0.06285714]\n"
     ]
    },
    {
     "data": {
      "text/plain": [
       "(array([[0.72142857, 0.82142857]]), -0.3999999999998424)"
      ]
     },
     "execution_count": 11,
     "metadata": {},
     "output_type": "execute_result"
    }
   ],
   "source": [
    "## NIET WIJZIGEN: Test cel\n",
    "X = np.array([[1,1], [2,4], [3,9],[4,16],[5,25]]).T\n",
    "Y = np.array([[1,4.5,9.5,15,24]])\n",
    "alpha = 0.009\n",
    "w = np.array([[0.5,0.5]])\n",
    "w, b, cost_vector = fit_model(X, Y, alpha=alpha, num_iterations=200000)\n",
    "print(cost_vector[-10:])\n",
    "w, b"
   ]
  },
  {
   "cell_type": "code",
   "execution_count": null,
   "metadata": {},
   "outputs": [],
   "source": []
  },
  {
   "cell_type": "code",
   "execution_count": null,
   "metadata": {},
   "outputs": [],
   "source": []
  }
 ],
 "metadata": {
  "kernelspec": {
   "display_name": "Python 3",
   "language": "python",
   "name": "python3"
  },
  "language_info": {
   "codemirror_mode": {
    "name": "ipython",
    "version": 3
   },
   "file_extension": ".py",
   "mimetype": "text/x-python",
   "name": "python",
   "nbconvert_exporter": "python",
   "pygments_lexer": "ipython3",
   "version": "3.7.4"
  }
 },
 "nbformat": 4,
 "nbformat_minor": 2
}